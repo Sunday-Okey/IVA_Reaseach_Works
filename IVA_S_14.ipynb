{
  "cells": [
    {
      "cell_type": "markdown",
      "metadata": {
        "id": "view-in-github",
        "colab_type": "text"
      },
      "source": [
        "<a href=\"https://colab.research.google.com/github/Sunday-Okey/IVA_Research_Works/blob/master/IVA_S_14.ipynb\" target=\"_parent\"><img src=\"https://colab.research.google.com/assets/colab-badge.svg\" alt=\"Open In Colab\"/></a>"
      ]
    },
    {
      "cell_type": "code",
      "execution_count": null,
      "metadata": {
        "id": "SbPex1mktwXL"
      },
      "outputs": [],
      "source": [
        "import numpy  as np\n",
        "import scipy as sc\n",
        "from sklearn.covariance import GraphicalLassoCV\n",
        "\n",
        "import pickle\n",
        "import pandas as pd\n",
        "import numpy as np\n",
        "from sklearn.model_selection import GridSearchCV\n",
        "import timeit # for timing functions\n",
        "import time # for getting time related data\n",
        "import numpy as np\n",
        "import scipy.io as sio\n",
        "from sklearn.svm import SVC\n",
        "import pandas as pd\n",
        "from sklearn.metrics import make_scorer, accuracy_score, precision_score, recall_score, f1_score\n",
        "from sklearn.model_selection import StratifiedKFold\n",
        "import scipy.stats\n",
        "\n",
        "import scipy as sc\n",
        "import scipy.linalg as linalg\n",
        "from scipy.special import gamma\n",
        "\n",
        "\n",
        "import tensorflow as tf\n",
        "from tensorflow.keras.models import Sequential\n",
        "from tensorflow.keras.layers import Dense, Dropout, BatchNormalization\n",
        "from tensorflow.keras.losses import BinaryCrossentropy\n",
        "from tensorflow.keras.callbacks import EarlyStopping\n",
        "from tensorflow.keras.regularizers import l2"
      ]
    },
    {
      "cell_type": "code",
      "execution_count": null,
      "metadata": {
        "colab": {
          "base_uri": "https://localhost:8080/"
        },
        "id": "6JUBgv2et_kx",
        "outputId": "cc4affa6-b5ac-4854-980a-09c348112867"
      },
      "outputs": [
        {
          "output_type": "stream",
          "name": "stdout",
          "text": [
            "Drive already mounted at /content/drive; to attempt to forcibly remount, call drive.mount(\"/content/drive\", force_remount=True).\n"
          ]
        }
      ],
      "source": [
        "from google.colab import drive\n",
        "drive.mount('/content/drive')"
      ]
    },
    {
      "cell_type": "code",
      "execution_count": null,
      "metadata": {
        "colab": {
          "base_uri": "https://localhost:8080/"
        },
        "id": "dyNjpkHbuJ_3",
        "outputId": "cd807404-6300-4313-83b9-ae43db3040ee"
      },
      "outputs": [
        {
          "output_type": "stream",
          "name": "stdout",
          "text": [
            "\n",
            "Your working directory was changed to /content/drive/My Drive/Colab Notebooks/Computer_Vision/\n",
            "\n",
            "An empty text file was created there. You can also run !pwd to confirm the current working directory.\n"
          ]
        }
      ],
      "source": [
        "\n",
        "import os\n",
        "\n",
        "# Set your working directory to a folder in your Google Drive. This way, if your notebook times out,\n",
        "# your files will be saved in your Google Drive!\n",
        "\n",
        "# the base Google Drive directory\n",
        "root_dir = \"/content/drive/My Drive/\"\n",
        "\n",
        "# choose where you want your project files to be saved\n",
        "project_folder = \"Colab Notebooks/Computer_Vision/\"\n",
        "\n",
        "def create_and_set_working_directory(project_folder):\n",
        "  # check if your project folder exists. if not, it will be created.\n",
        "  if not os.path.isdir(root_dir + project_folder):\n",
        "    os.mkdir(root_dir + project_folder)\n",
        "    print(root_dir + project_folder + ' did not exist but was created.')\n",
        "\n",
        "  # change the OS to use your project folder as the working directory\n",
        "  os.chdir(root_dir + project_folder)\n",
        "\n",
        "  # create a test file to make sure it shows up in the right place\n",
        "  !touch 'new_file_in_working_directory.txt'\n",
        "  print('\\nYour working directory was changed to ' + root_dir + project_folder + \\\n",
        "        \"\\n\\nAn empty text file was created there. You can also run !pwd to confirm the current working directory.\" )\n",
        "\n",
        "create_and_set_working_directory(project_folder)\n"
      ]
    },
    {
      "cell_type": "code",
      "execution_count": null,
      "metadata": {
        "id": "qgn-f6m4v-EM"
      },
      "outputs": [],
      "source": [
        "pkl_file_path = 'test_w_time_10232023.pkl'\n",
        "\n",
        "with open(pkl_file_path, 'rb') as file:\n",
        "    context = pickle.load(file)\n",
        "\n",
        "context_df_test = pd.DataFrame(context)"
      ]
    },
    {
      "cell_type": "code",
      "source": [
        "# pip install \"pandas<2.0.0\""
      ],
      "metadata": {
        "id": "SBvhUapL3IH2"
      },
      "execution_count": null,
      "outputs": []
    },
    {
      "cell_type": "code",
      "execution_count": null,
      "metadata": {
        "id": "iyPhFntPv-cs"
      },
      "outputs": [],
      "source": [
        "pkl_file_path = 'train_w_time_10232023.pkl'\n",
        "\n",
        "with open(pkl_file_path, 'rb') as file:\n",
        "    context = pickle.load(file)\n",
        "\n",
        "context_df_train = pd.DataFrame(context)"
      ]
    },
    {
      "cell_type": "code",
      "execution_count": null,
      "metadata": {
        "id": "EFPhJPeov-fv",
        "colab": {
          "base_uri": "https://localhost:8080/"
        },
        "outputId": "b88bf000-8ff6-4b27-cd76-4a3779b4fd34"
      },
      "outputs": [
        {
          "output_type": "execute_result",
          "data": {
            "text/plain": [
              "Index(['tweet_id', 'lang', 'res_image_vectors', 'vgg_image_vectors',\n",
              "       'tweet_text', 'label', 'event', 'new_img_id', 'clean_tweet', 'cl_len',\n",
              "       'text_feats_1', 'text_feats_2', 'pooler', 'sm_last_four_concat',\n",
              "       'mn_last_four_concat', 'mn_2ndtolast_lyr', 'sm_2ndtolast_lyr',\n",
              "       'num_friends', 'num_followers', 'folfriend_ratio', 'times_listed',\n",
              "       'has_url', 'is_verified', 'num_posts', 'num_words', 'text_length',\n",
              "       'contains_questmark', 'num_questmark', 'contains_exclammark',\n",
              "       'num_exclammark', 'contains_happyemo', 'contains_sademo',\n",
              "       'contains_firstorderpron', 'contains_secondorderpron',\n",
              "       'contains_thirdorderpron', 'num_uppercasechars', 'num_possentiwords',\n",
              "       'num_negsentiwords', 'num_mentions', 'num_hashtags', 'num_URLs',\n",
              "       'num_retweets', 'semi_clean', 'reading_ease', 'reading_grade',\n",
              "       'compound_score', 'neg_score', 'pos_score', 'neutral_score',\n",
              "       'vgg19_img_vectors', 'Topic20', 'Topic10', 'Topic5', 'caption',\n",
              "       'capt_feats', 'Topic200', 'Topic300', 'new_ev', 'event_feat',\n",
              "       'Topic200_200', 'Topic200_300', 'Topic200_500', 'timestamp', 'weekday',\n",
              "       'mdy', 'tm', 'mdy_tm'],\n",
              "      dtype='object')"
            ]
          },
          "metadata": {},
          "execution_count": 7
        }
      ],
      "source": [
        "# Assuming context_df and context_df_test are already defined Pandas DataFrames\n",
        "concatenated_df = pd.concat([context_df_train, context_df_test], ignore_index=True)\n",
        "concatenated_df.columns"
      ]
    },
    {
      "cell_type": "code",
      "execution_count": null,
      "metadata": {
        "id": "yAI3B5pXv-i0",
        "colab": {
          "base_uri": "https://localhost:8080/"
        },
        "outputId": "2d83c0c1-3c0d-43e4-d96d-9231319aee1d"
      },
      "outputs": [
        {
          "output_type": "stream",
          "name": "stdout",
          "text": [
            "tweet_text     Don't need feds to solve the #bostonbombing when we have #4chan!! http://t.co/eXQTPZqqbG\n",
            "clean_tweet                                              [don, need, feds, solve, bostonbombing, 4chan]\n",
            "Name: 0, dtype: object\n"
          ]
        }
      ],
      "source": [
        "with pd.option_context('display.max_colwidth', None):\n",
        "  selected_columns = ['tweet_text', 'clean_tweet']\n",
        "  print(concatenated_df[selected_columns].iloc[0])"
      ]
    },
    {
      "cell_type": "code",
      "execution_count": null,
      "metadata": {
        "id": "dillfexcv-l4",
        "colab": {
          "base_uri": "https://localhost:8080/"
        },
        "outputId": "068e8dc4-10d8-4f1b-ac24-777a4915ebdd"
      },
      "outputs": [
        {
          "output_type": "execute_result",
          "data": {
            "text/plain": [
              "386"
            ]
          },
          "metadata": {},
          "execution_count": 9
        }
      ],
      "source": [
        "len(concatenated_df['mdy'].unique())"
      ]
    },
    {
      "cell_type": "code",
      "execution_count": null,
      "metadata": {
        "id": "9JLge5n7v-oj",
        "colab": {
          "base_uri": "https://localhost:8080/"
        },
        "outputId": "7718e293-1ce3-4755-e02c-a2672d7ab95f"
      },
      "outputs": [
        {
          "output_type": "execute_result",
          "data": {
            "text/plain": [
              "(9938, 67)"
            ]
          },
          "metadata": {},
          "execution_count": 10
        }
      ],
      "source": [
        "concatenated_df.shape"
      ]
    },
    {
      "cell_type": "code",
      "execution_count": null,
      "metadata": {
        "id": "lTsbKzUov-sw",
        "colab": {
          "base_uri": "https://localhost:8080/"
        },
        "outputId": "f78dfd94-0f3f-462b-b294-d20ad9080429"
      },
      "outputs": [
        {
          "output_type": "execute_result",
          "data": {
            "text/plain": [
              "array(['boston', 'malaysia', 'passport', 'sandy', 'sochi', 'bringback',\n",
              "       'columbianChemicals', 'elephant', 'livr', 'pigFish', 'underwater',\n",
              "       'eclipse', 'samurai', 'nepal', 'garissa', 'fuji_lenticular',\n",
              "       'bush_book', 'gandhi_dancing', 'attacks_paris', 'bowie_david',\n",
              "       'pakistan_explosion', 'refugees', 'protest', 'not_afraid',\n",
              "       'rio_moon', 'immigrants', 'john_guevara', 'syrian_children',\n",
              "       'mc_donalds', 'brussels_explosions', 'half_everything',\n",
              "       'hubble_telescope', 'woman_14', 'north_korea', 'five_headed',\n",
              "       'burst_kfc', 'black_lion', 'nazi_submarine'], dtype=object)"
            ]
          },
          "metadata": {},
          "execution_count": 11
        }
      ],
      "source": [
        "concatenated_df['event'].unique()"
      ]
    },
    {
      "cell_type": "code",
      "execution_count": null,
      "metadata": {
        "id": "fazTQTS5v-wd",
        "colab": {
          "base_uri": "https://localhost:8080/"
        },
        "outputId": "a936648f-94e2-4fd0-a228-b61854ae22b1"
      },
      "outputs": [
        {
          "output_type": "stream",
          "name": "stdout",
          "text": [
            "2324\n",
            "1\n"
          ]
        },
        {
          "output_type": "execute_result",
          "data": {
            "text/plain": [
              "9938"
            ]
          },
          "metadata": {},
          "execution_count": 12
        }
      ],
      "source": [
        "time_text = concatenated_df.groupby('mdy')\n",
        "time_counts = time_text['tweet_text'].count()\n",
        "print(time_counts.max())\n",
        "print(time_counts.min())\n",
        "time_counts.sum()"
      ]
    },
    {
      "cell_type": "code",
      "execution_count": null,
      "metadata": {
        "id": "fPwvrOVuwbcr"
      },
      "outputs": [],
      "source": [
        "unique_events_per_date = time_text['event'].unique()"
      ]
    },
    {
      "cell_type": "code",
      "execution_count": null,
      "metadata": {
        "id": "DEUEmPxEwbn2",
        "colab": {
          "base_uri": "https://localhost:8080/",
          "height": 206
        },
        "outputId": "b7b96887-b7f9-4a35-8d59-78ef898d0e1b"
      },
      "outputs": [
        {
          "output_type": "execute_result",
          "data": {
            "text/plain": [
              "         mdy  unique_events\n",
              "0 2011-10-04  [five_headed]\n",
              "1 2011-10-22    [bush_book]\n",
              "2 2011-11-14  [five_headed]\n",
              "3 2011-12-21    [burst_kfc]\n",
              "4 2012-01-21  [five_headed]"
            ],
            "text/html": [
              "\n",
              "  <div id=\"df-dd842633-9503-4b3d-96a5-217af9c2e101\" class=\"colab-df-container\">\n",
              "    <div>\n",
              "<style scoped>\n",
              "    .dataframe tbody tr th:only-of-type {\n",
              "        vertical-align: middle;\n",
              "    }\n",
              "\n",
              "    .dataframe tbody tr th {\n",
              "        vertical-align: top;\n",
              "    }\n",
              "\n",
              "    .dataframe thead th {\n",
              "        text-align: right;\n",
              "    }\n",
              "</style>\n",
              "<table border=\"1\" class=\"dataframe\">\n",
              "  <thead>\n",
              "    <tr style=\"text-align: right;\">\n",
              "      <th></th>\n",
              "      <th>mdy</th>\n",
              "      <th>unique_events</th>\n",
              "    </tr>\n",
              "  </thead>\n",
              "  <tbody>\n",
              "    <tr>\n",
              "      <th>0</th>\n",
              "      <td>2011-10-04</td>\n",
              "      <td>[five_headed]</td>\n",
              "    </tr>\n",
              "    <tr>\n",
              "      <th>1</th>\n",
              "      <td>2011-10-22</td>\n",
              "      <td>[bush_book]</td>\n",
              "    </tr>\n",
              "    <tr>\n",
              "      <th>2</th>\n",
              "      <td>2011-11-14</td>\n",
              "      <td>[five_headed]</td>\n",
              "    </tr>\n",
              "    <tr>\n",
              "      <th>3</th>\n",
              "      <td>2011-12-21</td>\n",
              "      <td>[burst_kfc]</td>\n",
              "    </tr>\n",
              "    <tr>\n",
              "      <th>4</th>\n",
              "      <td>2012-01-21</td>\n",
              "      <td>[five_headed]</td>\n",
              "    </tr>\n",
              "  </tbody>\n",
              "</table>\n",
              "</div>\n",
              "    <div class=\"colab-df-buttons\">\n",
              "\n",
              "  <div class=\"colab-df-container\">\n",
              "    <button class=\"colab-df-convert\" onclick=\"convertToInteractive('df-dd842633-9503-4b3d-96a5-217af9c2e101')\"\n",
              "            title=\"Convert this dataframe to an interactive table.\"\n",
              "            style=\"display:none;\">\n",
              "\n",
              "  <svg xmlns=\"http://www.w3.org/2000/svg\" height=\"24px\" viewBox=\"0 -960 960 960\">\n",
              "    <path d=\"M120-120v-720h720v720H120Zm60-500h600v-160H180v160Zm220 220h160v-160H400v160Zm0 220h160v-160H400v160ZM180-400h160v-160H180v160Zm440 0h160v-160H620v160ZM180-180h160v-160H180v160Zm440 0h160v-160H620v160Z\"/>\n",
              "  </svg>\n",
              "    </button>\n",
              "\n",
              "  <style>\n",
              "    .colab-df-container {\n",
              "      display:flex;\n",
              "      gap: 12px;\n",
              "    }\n",
              "\n",
              "    .colab-df-convert {\n",
              "      background-color: #E8F0FE;\n",
              "      border: none;\n",
              "      border-radius: 50%;\n",
              "      cursor: pointer;\n",
              "      display: none;\n",
              "      fill: #1967D2;\n",
              "      height: 32px;\n",
              "      padding: 0 0 0 0;\n",
              "      width: 32px;\n",
              "    }\n",
              "\n",
              "    .colab-df-convert:hover {\n",
              "      background-color: #E2EBFA;\n",
              "      box-shadow: 0px 1px 2px rgba(60, 64, 67, 0.3), 0px 1px 3px 1px rgba(60, 64, 67, 0.15);\n",
              "      fill: #174EA6;\n",
              "    }\n",
              "\n",
              "    .colab-df-buttons div {\n",
              "      margin-bottom: 4px;\n",
              "    }\n",
              "\n",
              "    [theme=dark] .colab-df-convert {\n",
              "      background-color: #3B4455;\n",
              "      fill: #D2E3FC;\n",
              "    }\n",
              "\n",
              "    [theme=dark] .colab-df-convert:hover {\n",
              "      background-color: #434B5C;\n",
              "      box-shadow: 0px 1px 3px 1px rgba(0, 0, 0, 0.15);\n",
              "      filter: drop-shadow(0px 1px 2px rgba(0, 0, 0, 0.3));\n",
              "      fill: #FFFFFF;\n",
              "    }\n",
              "  </style>\n",
              "\n",
              "    <script>\n",
              "      const buttonEl =\n",
              "        document.querySelector('#df-dd842633-9503-4b3d-96a5-217af9c2e101 button.colab-df-convert');\n",
              "      buttonEl.style.display =\n",
              "        google.colab.kernel.accessAllowed ? 'block' : 'none';\n",
              "\n",
              "      async function convertToInteractive(key) {\n",
              "        const element = document.querySelector('#df-dd842633-9503-4b3d-96a5-217af9c2e101');\n",
              "        const dataTable =\n",
              "          await google.colab.kernel.invokeFunction('convertToInteractive',\n",
              "                                                    [key], {});\n",
              "        if (!dataTable) return;\n",
              "\n",
              "        const docLinkHtml = 'Like what you see? Visit the ' +\n",
              "          '<a target=\"_blank\" href=https://colab.research.google.com/notebooks/data_table.ipynb>data table notebook</a>'\n",
              "          + ' to learn more about interactive tables.';\n",
              "        element.innerHTML = '';\n",
              "        dataTable['output_type'] = 'display_data';\n",
              "        await google.colab.output.renderOutput(dataTable, element);\n",
              "        const docLink = document.createElement('div');\n",
              "        docLink.innerHTML = docLinkHtml;\n",
              "        element.appendChild(docLink);\n",
              "      }\n",
              "    </script>\n",
              "  </div>\n",
              "\n",
              "\n",
              "<div id=\"df-43986d63-4999-4031-aed2-304366d116e9\">\n",
              "  <button class=\"colab-df-quickchart\" onclick=\"quickchart('df-43986d63-4999-4031-aed2-304366d116e9')\"\n",
              "            title=\"Suggest charts\"\n",
              "            style=\"display:none;\">\n",
              "\n",
              "<svg xmlns=\"http://www.w3.org/2000/svg\" height=\"24px\"viewBox=\"0 0 24 24\"\n",
              "     width=\"24px\">\n",
              "    <g>\n",
              "        <path d=\"M19 3H5c-1.1 0-2 .9-2 2v14c0 1.1.9 2 2 2h14c1.1 0 2-.9 2-2V5c0-1.1-.9-2-2-2zM9 17H7v-7h2v7zm4 0h-2V7h2v10zm4 0h-2v-4h2v4z\"/>\n",
              "    </g>\n",
              "</svg>\n",
              "  </button>\n",
              "\n",
              "<style>\n",
              "  .colab-df-quickchart {\n",
              "      --bg-color: #E8F0FE;\n",
              "      --fill-color: #1967D2;\n",
              "      --hover-bg-color: #E2EBFA;\n",
              "      --hover-fill-color: #174EA6;\n",
              "      --disabled-fill-color: #AAA;\n",
              "      --disabled-bg-color: #DDD;\n",
              "  }\n",
              "\n",
              "  [theme=dark] .colab-df-quickchart {\n",
              "      --bg-color: #3B4455;\n",
              "      --fill-color: #D2E3FC;\n",
              "      --hover-bg-color: #434B5C;\n",
              "      --hover-fill-color: #FFFFFF;\n",
              "      --disabled-bg-color: #3B4455;\n",
              "      --disabled-fill-color: #666;\n",
              "  }\n",
              "\n",
              "  .colab-df-quickchart {\n",
              "    background-color: var(--bg-color);\n",
              "    border: none;\n",
              "    border-radius: 50%;\n",
              "    cursor: pointer;\n",
              "    display: none;\n",
              "    fill: var(--fill-color);\n",
              "    height: 32px;\n",
              "    padding: 0;\n",
              "    width: 32px;\n",
              "  }\n",
              "\n",
              "  .colab-df-quickchart:hover {\n",
              "    background-color: var(--hover-bg-color);\n",
              "    box-shadow: 0 1px 2px rgba(60, 64, 67, 0.3), 0 1px 3px 1px rgba(60, 64, 67, 0.15);\n",
              "    fill: var(--button-hover-fill-color);\n",
              "  }\n",
              "\n",
              "  .colab-df-quickchart-complete:disabled,\n",
              "  .colab-df-quickchart-complete:disabled:hover {\n",
              "    background-color: var(--disabled-bg-color);\n",
              "    fill: var(--disabled-fill-color);\n",
              "    box-shadow: none;\n",
              "  }\n",
              "\n",
              "  .colab-df-spinner {\n",
              "    border: 2px solid var(--fill-color);\n",
              "    border-color: transparent;\n",
              "    border-bottom-color: var(--fill-color);\n",
              "    animation:\n",
              "      spin 1s steps(1) infinite;\n",
              "  }\n",
              "\n",
              "  @keyframes spin {\n",
              "    0% {\n",
              "      border-color: transparent;\n",
              "      border-bottom-color: var(--fill-color);\n",
              "      border-left-color: var(--fill-color);\n",
              "    }\n",
              "    20% {\n",
              "      border-color: transparent;\n",
              "      border-left-color: var(--fill-color);\n",
              "      border-top-color: var(--fill-color);\n",
              "    }\n",
              "    30% {\n",
              "      border-color: transparent;\n",
              "      border-left-color: var(--fill-color);\n",
              "      border-top-color: var(--fill-color);\n",
              "      border-right-color: var(--fill-color);\n",
              "    }\n",
              "    40% {\n",
              "      border-color: transparent;\n",
              "      border-right-color: var(--fill-color);\n",
              "      border-top-color: var(--fill-color);\n",
              "    }\n",
              "    60% {\n",
              "      border-color: transparent;\n",
              "      border-right-color: var(--fill-color);\n",
              "    }\n",
              "    80% {\n",
              "      border-color: transparent;\n",
              "      border-right-color: var(--fill-color);\n",
              "      border-bottom-color: var(--fill-color);\n",
              "    }\n",
              "    90% {\n",
              "      border-color: transparent;\n",
              "      border-bottom-color: var(--fill-color);\n",
              "    }\n",
              "  }\n",
              "</style>\n",
              "\n",
              "  <script>\n",
              "    async function quickchart(key) {\n",
              "      const quickchartButtonEl =\n",
              "        document.querySelector('#' + key + ' button');\n",
              "      quickchartButtonEl.disabled = true;  // To prevent multiple clicks.\n",
              "      quickchartButtonEl.classList.add('colab-df-spinner');\n",
              "      try {\n",
              "        const charts = await google.colab.kernel.invokeFunction(\n",
              "            'suggestCharts', [key], {});\n",
              "      } catch (error) {\n",
              "        console.error('Error during call to suggestCharts:', error);\n",
              "      }\n",
              "      quickchartButtonEl.classList.remove('colab-df-spinner');\n",
              "      quickchartButtonEl.classList.add('colab-df-quickchart-complete');\n",
              "    }\n",
              "    (() => {\n",
              "      let quickchartButtonEl =\n",
              "        document.querySelector('#df-43986d63-4999-4031-aed2-304366d116e9 button');\n",
              "      quickchartButtonEl.style.display =\n",
              "        google.colab.kernel.accessAllowed ? 'block' : 'none';\n",
              "    })();\n",
              "  </script>\n",
              "</div>\n",
              "\n",
              "    </div>\n",
              "  </div>\n"
            ],
            "application/vnd.google.colaboratory.intrinsic+json": {
              "type": "dataframe",
              "variable_name": "unique_events_df",
              "summary": "{\n  \"name\": \"unique_events_df\",\n  \"rows\": 386,\n  \"fields\": [\n    {\n      \"column\": \"mdy\",\n      \"properties\": {\n        \"dtype\": \"date\",\n        \"min\": \"2011-10-04 00:00:00\",\n        \"max\": \"2016-06-06 00:00:00\",\n        \"num_unique_values\": 386,\n        \"samples\": [\n          \"2016-01-11 00:00:00\",\n          \"2015-11-14 00:00:00\",\n          \"2014-03-08 00:00:00\"\n        ],\n        \"semantic_type\": \"\",\n        \"description\": \"\"\n      }\n    },\n    {\n      \"column\": \"unique_events\",\n      \"properties\": {\n        \"dtype\": \"object\",\n        \"semantic_type\": \"\",\n        \"description\": \"\"\n      }\n    }\n  ]\n}"
            }
          },
          "metadata": {},
          "execution_count": 14
        }
      ],
      "source": [
        "unique_events_df = unique_events_per_date.reset_index(name='unique_events')\n",
        "unique_events_df.head()"
      ]
    },
    {
      "cell_type": "code",
      "execution_count": null,
      "metadata": {
        "id": "BufAEN2vwbyF",
        "colab": {
          "base_uri": "https://localhost:8080/"
        },
        "outputId": "fe9839b4-cd57-461f-f2a9-a0de9c578e62"
      },
      "outputs": [
        {
          "output_type": "stream",
          "name": "stdout",
          "text": [
            "mdy\n",
            "2011-10-04     1\n",
            "2011-10-22     1\n",
            "2011-11-14     1\n",
            "2011-12-21     1\n",
            "2012-01-21     1\n",
            "              ..\n",
            "2016-03-25     2\n",
            "2016-03-26     1\n",
            "2016-03-27     8\n",
            "2016-03-28    26\n",
            "2016-06-06     1\n",
            "Name: tweet_text, Length: 386, dtype: int64\n"
          ]
        }
      ],
      "source": [
        "print(time_counts)"
      ]
    },
    {
      "cell_type": "code",
      "execution_count": null,
      "metadata": {
        "id": "p_UzhFXnt74L"
      },
      "outputs": [],
      "source": [
        "from helpers_iva import normalize_column_vectors, decouple_trick, bss_isi, whiten_data\n",
        "from initializations import jbss_sos, cca"
      ]
    },
    {
      "cell_type": "code",
      "execution_count": null,
      "metadata": {
        "id": "aaAObm7LwpgJ",
        "colab": {
          "base_uri": "https://localhost:8080/"
        },
        "outputId": "b411e78a-0358-4883-e301-442402be9b03"
      },
      "outputs": [
        {
          "output_type": "execute_result",
          "data": {
            "text/plain": [
              "event\n",
              "attacks_paris           181\n",
              "black_lion                7\n",
              "boston                  474\n",
              "bowie_david              64\n",
              "bringback               109\n",
              "brussels_explosions       9\n",
              "burst_kfc                15\n",
              "bush_book                25\n",
              "columbianChemicals      182\n",
              "eclipse                 200\n",
              "elephant                 11\n",
              "five_headed               5\n",
              "fuji_lenticular         147\n",
              "gandhi_dancing           13\n",
              "garissa                  44\n",
              "half_everything          34\n",
              "hubble_telescope         17\n",
              "immigrants               30\n",
              "john_guevara             10\n",
              "livr                      2\n",
              "malaysia                165\n",
              "mc_donalds                5\n",
              "nazi_submarine           10\n",
              "nepal                  1250\n",
              "north_korea               7\n",
              "not_afraid               48\n",
              "pakistan_explosion       34\n",
              "passport                 41\n",
              "pigFish                  12\n",
              "protest                  34\n",
              "refugees                 53\n",
              "rio_moon                 26\n",
              "samurai                 213\n",
              "sandy                  6073\n",
              "sochi                   259\n",
              "syrian_children          11\n",
              "underwater              107\n",
              "woman_14                 11\n",
              "Name: event, dtype: int64"
            ]
          },
          "metadata": {},
          "execution_count": 17
        }
      ],
      "source": [
        "event_text = concatenated_df.groupby('event')\n",
        "event_counts = event_text['event'].count()\n",
        "event_counts"
      ]
    },
    {
      "cell_type": "code",
      "execution_count": null,
      "metadata": {
        "id": "Hn52MI8vwpjR"
      },
      "outputs": [],
      "source": [
        "from datetime import datetime\n",
        "def convert_datetime(date_time):\n",
        "\n",
        "    formatted_date = date_time.strftime('%y%m%d')\n",
        "\n",
        "    return formatted_date"
      ]
    },
    {
      "cell_type": "code",
      "execution_count": null,
      "metadata": {
        "id": "OpLpHUvPwpm9"
      },
      "outputs": [],
      "source": [
        "text_time_t = {}\n",
        "vocab_time_t = {}\n",
        "total_vocab = []\n",
        "all_unique_elements = set()\n",
        "\n",
        "# Iterate through the grouped data\n",
        "time_t = 0\n",
        "for time_stamp, group in event_text:\n",
        "  all_elements = []\n",
        "  unique_elements = set()\n",
        "  for elements in group['clean_tweet']:\n",
        "    all_elements.extend(elements)\n",
        "    unique_elements.update(elements)\n",
        "  text_time_t[time_t] = all_elements\n",
        "  vocab_time_t[time_t] = list(unique_elements)\n",
        "  all_unique_elements.update(unique_elements)\n",
        "  time_t += 1\n",
        "  # print(\"text_time_t\", len(all_elements))\n",
        "  # print(\"vocab_time_t\", len(list(unique_elements)))\n",
        "\n",
        "total_vocab = list(all_unique_elements)"
      ]
    },
    {
      "cell_type": "code",
      "execution_count": null,
      "metadata": {
        "id": "vrX7p0emwppk",
        "colab": {
          "base_uri": "https://localhost:8080/"
        },
        "outputId": "d9a88860-b5fc-4aaf-bcdb-e3fed6e0fc0d"
      },
      "outputs": [
        {
          "output_type": "stream",
          "name": "stdout",
          "text": [
            "text_time_t [0, 1, 2, 3, 4, 5, 6, 7, 8, 9, 10, 11, 12, 13, 14, 15, 16, 17, 18, 19, 20, 21, 22, 23, 24, 25, 26, 27, 28, 29, 30, 31, 32, 33, 34, 35, 36, 37]\n",
            "vocab_time_t [0, 1, 2, 3, 4, 5, 6, 7, 8, 9, 10, 11, 12, 13, 14, 15, 16, 17, 18, 19, 20, 21, 22, 23, 24, 25, 26, 27, 28, 29, 30, 31, 32, 33, 34, 35, 36, 37]\n"
          ]
        }
      ],
      "source": [
        "print(\"text_time_t\", list(text_time_t))\n",
        "print(\"vocab_time_t\", list(vocab_time_t))"
      ]
    },
    {
      "cell_type": "code",
      "execution_count": null,
      "metadata": {
        "id": "MqzXrjciwpsu",
        "colab": {
          "base_uri": "https://localhost:8080/"
        },
        "outputId": "8ee83793-ef34-47ac-b9a5-e397cb4410ee"
      },
      "outputs": [
        {
          "output_type": "stream",
          "name": "stdout",
          "text": [
            "254 1585\n",
            "17 51\n",
            "962 4039\n",
            "184 494\n",
            "233 533\n",
            "32 89\n",
            "27 85\n",
            "130 290\n",
            "407 1441\n",
            "325 1579\n",
            "6 28\n",
            "18 32\n",
            "270 1177\n",
            "64 113\n",
            "177 459\n",
            "37 301\n",
            "45 149\n",
            "167 270\n",
            "18 67\n",
            "16 20\n",
            "426 1365\n",
            "27 49\n",
            "15 81\n",
            "1060 11120\n",
            "18 61\n",
            "147 268\n",
            "71 289\n",
            "93 338\n",
            "62 80\n",
            "145 270\n",
            "217 525\n",
            "57 237\n",
            "108 2060\n",
            "4963 42637\n",
            "800 2043\n",
            "34 120\n",
            "106 856\n",
            "29 101\n"
          ]
        }
      ],
      "source": [
        "for t in text_time_t:\n",
        "    print(len(vocab_time_t[t]), len(text_time_t[t]))"
      ]
    },
    {
      "cell_type": "code",
      "execution_count": null,
      "metadata": {
        "id": "TAdGyqitwpvI",
        "colab": {
          "base_uri": "https://localhost:8080/"
        },
        "outputId": "3569fbfe-925a-407d-e211-7157d58077be"
      },
      "outputs": [
        {
          "output_type": "execute_result",
          "data": {
            "text/plain": [
              "7791"
            ]
          },
          "metadata": {},
          "execution_count": 22
        }
      ],
      "source": [
        "len(total_vocab)"
      ]
    },
    {
      "cell_type": "code",
      "execution_count": null,
      "metadata": {
        "id": "y_UKX8yuwpyi"
      },
      "outputs": [],
      "source": [
        "co_oc_file_path = 'combined_co_occurence.pkl'\n",
        "\n",
        "with open(co_oc_file_path, 'rb') as file:\n",
        "    loaded_co_oc = pickle.load(file)"
      ]
    },
    {
      "cell_type": "code",
      "execution_count": null,
      "metadata": {
        "id": "dcybq2p7xK2v",
        "colab": {
          "base_uri": "https://localhost:8080/"
        },
        "outputId": "cc4dfdbf-01e0-46ba-df55-83f50b5469cf"
      },
      "outputs": [
        {
          "output_type": "execute_result",
          "data": {
            "text/plain": [
              "7791"
            ]
          },
          "metadata": {},
          "execution_count": 24
        }
      ],
      "source": [
        "len(total_vocab)"
      ]
    },
    {
      "cell_type": "code",
      "execution_count": null,
      "metadata": {
        "id": "sO-ARzTnxLCD",
        "colab": {
          "base_uri": "https://localhost:8080/"
        },
        "outputId": "6afabbfd-c7a6-48ba-9671-ecb7ab102954"
      },
      "outputs": [
        {
          "output_type": "stream",
          "name": "stdout",
          "text": [
            "(254, 7791)\n",
            "(962, 7791)\n",
            "(184, 7791)\n",
            "(233, 7791)\n",
            "(407, 7791)\n",
            "(325, 7791)\n",
            "(270, 7791)\n",
            "(177, 7791)\n",
            "(167, 7791)\n",
            "(426, 7791)\n",
            "(1060, 7791)\n",
            "(217, 7791)\n",
            "(4963, 7791)\n",
            "(800, 7791)\n"
          ]
        }
      ],
      "source": [
        "mylist = []\n",
        "for co_oc in loaded_co_oc:\n",
        "  if co_oc.shape[0] >= 167:\n",
        "    mylist.append(co_oc)\n",
        "    print(co_oc.shape)"
      ]
    },
    {
      "cell_type": "code",
      "source": [
        "from sklearn.decomposition import PCA\n",
        "import numpy as np\n",
        "\n",
        "# Generate random data matrix X\n",
        "np.random.seed(42)  # for reproducibility\n",
        "X_1 = np.random.rand(7791, 254) #7791 is the whole vocabulary and 254 is the vocabulary for event 1\n",
        "\n",
        "W_1 = np.random.rand(130, 130) # This is the matrix that we obtain from IVA\n",
        "\n",
        "# Fit PCA to your data\n",
        "pca = PCA(n_components=130) #130 is the PCA order\n",
        "mapped1 = pca.fit_transform(X_1) # shape num_samples x num_components\n",
        "\n",
        "print(mapped1.shape)\n",
        "\n",
        "F1 = np.dot(np.linalg.pinv(X_1), mapped1)\n",
        "\n",
        "print(F1.shape)\n",
        "\n",
        "A_1 = np.dot(np.linalg.pinv(F1.T), np.linalg.inv(W_1)) # shape (num features = len reliable vocab) X (num components = N)\n",
        "\n",
        "print(A_1.shape) #each row will be a word embedding for event 1.\n",
        "\n",
        "# A_2 will have a different size. It will be 962 x 130.\n",
        "# A_3 will be 182 x 130. and so on"
      ],
      "metadata": {
        "colab": {
          "base_uri": "https://localhost:8080/"
        },
        "id": "hOi2MYV0qp-c",
        "outputId": "e8657882-d534-410f-84c0-43e20aadb24c"
      },
      "execution_count": null,
      "outputs": [
        {
          "output_type": "stream",
          "name": "stdout",
          "text": [
            "(7791, 130)\n",
            "(254, 130)\n",
            "(254, 130)\n"
          ]
        }
      ]
    },
    {
      "cell_type": "code",
      "execution_count": null,
      "metadata": {
        "id": "mC42sLoTxLE7",
        "colab": {
          "base_uri": "https://localhost:8080/"
        },
        "outputId": "407e033c-16ce-4cca-ebad-a1f60f39f4ce"
      },
      "outputs": [
        {
          "output_type": "stream",
          "name": "stdout",
          "text": [
            "(7791, 167)\n",
            "(7791, 167)\n",
            "(7791, 167)\n",
            "(7791, 167)\n",
            "(7791, 167)\n",
            "(7791, 167)\n",
            "(7791, 167)\n",
            "(7791, 167)\n",
            "(7791, 167)\n",
            "(7791, 167)\n",
            "(7791, 167)\n",
            "(7791, 167)\n",
            "(7791, 167)\n",
            "(7791, 167)\n"
          ]
        }
      ],
      "source": [
        "from sklearn import preprocessing\n",
        "from sklearn.preprocessing import scale\n",
        "from sklearn.preprocessing import StandardScaler\n",
        "\n",
        "# import packages for modeling\n",
        "from sklearn.decomposition import IncrementalPCA\n",
        "from sklearn.decomposition import PCA\n",
        "\n",
        "data = []\n",
        "#instantiate scaler on training data\n",
        "scl_txt = StandardScaler(with_mean = True, with_std = False)\n",
        "pca_txt_mod = PCA(n_components = 167, svd_solver='full')\n",
        "for item in mylist:\n",
        "    X_scaled = scl_txt.fit_transform(item.T)\n",
        "    # Fit and transform text data\n",
        "    X = pca_txt_mod.fit_transform(X_scaled )\n",
        "    # mylist.append(X)\n",
        "    print(X.shape)\n",
        "    data.append(X )\n",
        "\n"
      ]
    },
    {
      "cell_type": "code",
      "execution_count": null,
      "metadata": {
        "id": "_oqDd873xLHk",
        "colab": {
          "base_uri": "https://localhost:8080/"
        },
        "outputId": "3223d45b-ac28-4e86-d1d9-d8ed028e8252"
      },
      "outputs": [
        {
          "output_type": "stream",
          "name": "stdout",
          "text": [
            "(167, 7791)\n",
            "(167, 7791)\n",
            "(167, 7791)\n",
            "(167, 7791)\n",
            "(167, 7791)\n",
            "(167, 7791)\n",
            "(167, 7791)\n",
            "(167, 7791)\n",
            "(167, 7791)\n",
            "(167, 7791)\n",
            "(167, 7791)\n",
            "(167, 7791)\n",
            "(167, 7791)\n",
            "(167, 7791)\n"
          ]
        }
      ],
      "source": [
        "mydata = [item.T for item in data]\n",
        "for item in mydata:\n",
        "  print(item.shape)"
      ]
    },
    {
      "cell_type": "code",
      "execution_count": null,
      "metadata": {
        "id": "NY9KyTyExLKf"
      },
      "outputs": [],
      "source": [
        "Z = np.stack(mydata, axis = 2)"
      ]
    },
    {
      "cell_type": "code",
      "execution_count": null,
      "metadata": {
        "id": "yiZ25WlAxLNM",
        "colab": {
          "base_uri": "https://localhost:8080/"
        },
        "outputId": "b47f2ca7-0c5b-4268-b0e0-c35fb2afd48c"
      },
      "outputs": [
        {
          "output_type": "execute_result",
          "data": {
            "text/plain": [
              "(167, 7791, 14)"
            ]
          },
          "metadata": {},
          "execution_count": 30
        }
      ],
      "source": [
        "Z.shape"
      ]
    },
    {
      "cell_type": "code",
      "source": [],
      "metadata": {
        "id": "zvm3cR91GimW"
      },
      "execution_count": null,
      "outputs": []
    },
    {
      "cell_type": "code",
      "execution_count": null,
      "metadata": {
        "id": "wHWu7Q7htowK"
      },
      "outputs": [],
      "source": [
        "# def iva_spice(X, whiten=True, verbose=False, A=None, max_iter=512, W_diff_stop=1e-6, alpha0=1.0):\n",
        "\n",
        "#     \"\"\"\n",
        "#     Implementation of all the second-order (Gaussian) independent vector analysis (IVA) algorithms.\n",
        "#     Real valued using gradient optimization.\n",
        "\n",
        "#     For a general description of the algorithm and its relationship with others,\n",
        "#     see https://urldefense.com/v3/__http://mlsp.umbc.edu/jointBSS_introduction.html__;!!IaT_gp1N!gcLMVNHaocM9dxMD8uC66Ees6BVgmALY_-uO7NJnnjvczOwdkhMkEEEWmdbo8Yqt2_o$\n",
        "\n",
        "\n",
        "#     Parameters\n",
        "#     ----------\n",
        "#     X : np.ndarray\n",
        "#         data matrix of dimensions N x T x K.\n",
        "#         Data observations are from K data sets, i.e., X[k] = A[k] @ S[k], where A[k] is an N x N\n",
        "#         unknown invertible mixing matrix, and S[k] is N x T matrix with the nth row corresponding to\n",
        "#         T samples of the nth source in the kth dataset. This enforces the assumption of an equal\n",
        "#         number of samples in each dataset.\n",
        "#         For IVA, it is assumed that a source is statistically independent of all the other sources\n",
        "#         within the dataset and exactly dependent on at most one source in each of the other\n",
        "#         datasets.\n",
        "\n",
        "#     whiten : bool, optional\n",
        "#         if True, data is whitened.\n",
        "\n",
        "#     verbose : bool, optional\n",
        "#         enables print statements if True. Automatically set to True if A is provided\n",
        "\n",
        "#     A : np.ndarray, optional\n",
        "#         true mixing matrices A of dimensions N x N x K, automatically sets verbose to True\n",
        "\n",
        "#     max_iter : int, optional\n",
        "#         max # of iterations\n",
        "\n",
        "#     W_diff_stop : float, optional\n",
        "#         stopping criterion\n",
        "\n",
        "#     alpha0 : float, optional\n",
        "#         initial step size scaling\n",
        "\n",
        "\n",
        "#     Returns\n",
        "#     -------\n",
        "#     W : np.ndarray\n",
        "#         the estimated demixing matrices of dimensions N x N x K so that ideally\n",
        "#         W[k] @ A[k] = P @ D[k], where P is any arbitrary permutation matrix and D[k] is any\n",
        "#         diagonal invertible (scaling) matrix. Note that P is common to all datasets. This is\n",
        "#         to indicate that the local permutation ambiguity between dependent sources\n",
        "#         across datasets should ideally be resolved by IVA.\n",
        "\n",
        "#     cost : float\n",
        "#         the cost for each iteration\n",
        "\n",
        "#     Sigma_N : np.ndarray\n",
        "#         Covariance matrix of each source component vector, with dimensions K x K x N\n",
        "\n",
        "#     isi : float\n",
        "#         joint isi (inter-symbol-interference) for each iteration. Only available if user\n",
        "#         supplies true mixing matrices for computing a performance metric. Else returns np.nan.\n",
        "\n",
        "\n",
        "#     # TODO: Notes, References\n",
        "\n",
        "#     \"\"\"\n",
        "\n",
        "#     # throw errors for incorrect X argument\n",
        "#     if X.ndim != 3:\n",
        "#         raise AssertionError('X must have dimensions N x T x K.')\n",
        "#     elif X.shape[2] == 1:\n",
        "#         raise AssertionError('There must be ast least K=2 datasets.')\n",
        "\n",
        "#     # get dimensions\n",
        "#     N, T, K = X.shape\n",
        "\n",
        "#     # determine if (correct) A argument provided\n",
        "#     if A is not None:\n",
        "#         supply_A = True\n",
        "#         if A.shape[0] != N or A.shape[1] != N or A.shape[2] != K:\n",
        "#             raise AssertionError('A must have dimensions N x N x K.')\n",
        "#     else:\n",
        "#         supply_A = False\n",
        "\n",
        "#     blowup = 1e3\n",
        "#     alpha_scale = 0.9   # alpha0 to alpha0*alpha_scale when cost does not decrease\n",
        "#     alpha_min = W_diff_stop  # can also be chosen different\n",
        "\n",
        "#     if whiten:\n",
        "#         X, V, _ = whiten_data(X)\n",
        "\n",
        "#     # calculate cross-covariance matrices of X\n",
        "#     R_xx = np.zeros((N, N, K, K), dtype=X.dtype)\n",
        "#     for k1 in range(K):\n",
        "#         for k2 in range(k1, K):\n",
        "#             R_xx[:, :, k1, k2] = 1 / T * X[:, :, k1] @ np.conj(X[:, :, k2].T)\n",
        "#             R_xx[:, :, k2, k1] = np.conj(R_xx[:, :, k1, k2].T)  # R_xx is Hermitian\n",
        "\n",
        "#     # Initializations\n",
        "\n",
        "#     # Initialize W through random initialization\n",
        "#     W = np.random.randn(N, N, K)\n",
        "#     Y = np.zeros((N, T, K))\n",
        "\n",
        "#     for k in range(K):\n",
        "#         W[:, :, k] = np.linalg.solve(sc.linalg.sqrtm(W[:, :, k] @ W[:, :, k].T), W[:, :, k])\n",
        "\n",
        "#     if supply_A:\n",
        "#         # only reason to supply A matrices is to display running performance and to compute output_isi\n",
        "#         verbose = True\n",
        "#         isi = np.zeros(max_iter)\n",
        "#         if whiten:\n",
        "#             # A matrix is conditioned by V if data is whitened\n",
        "#             A_w = np.copy(A)\n",
        "#             for k in range(K):\n",
        "#                 A_w[:, :, k] = V[:, :, k] @ A_w[:, :, k]\n",
        "#         else:\n",
        "#             A_w = np.copy(A)\n",
        "#     else:\n",
        "#         isi = np.nan\n",
        "\n",
        "#     # Check rank of data-covariance matrix: should be full rank, if not we inflate (this is ad hoc)\n",
        "#     # concatenate all covariance matrices in a big matrix\n",
        "#     R_xx_all = np.moveaxis(R_xx, [0, 1, 2, 3], [0, 2, 1, 3]).reshape(\n",
        "#         (R_xx.shape[0] * R_xx.shape[2], R_xx.shape[1] * R_xx.shape[3]), order='F')\n",
        "#     rank = np.linalg.matrix_rank(R_xx_all)\n",
        "#     if rank < (N * K):\n",
        "#         # inflate Rx\n",
        "#         _, k, _ = np.linalg.svd(R_xx_all)\n",
        "#         R_xx_all += k[rank - 1] * np.eye(N * K)  # add smallest singular value to main diagonal\n",
        "#         R_xx = np.moveaxis(\n",
        "#             R_xx_all.reshape(R_xx.shape[0], R_xx.shape[2], R_xx.shape[1], R_xx.shape[3], order='F'),\n",
        "#             [0, 2, 1, 3], [0, 1, 2, 3])\n",
        "\n",
        "#     # Initialize some local variables\n",
        "#     cost = np.zeros(max_iter)\n",
        "#     cost_const = K * np.log(2 * np.pi * np.exp(1))  # local constant\n",
        "\n",
        "#     grad = np.zeros((N, K))\n",
        "\n",
        "#     # Main Iteration Loop\n",
        "#     for iteration in range(max_iter):\n",
        "#         term_criterion = 0\n",
        "\n",
        "#         # Some additional computations of performance via ISI when true A is supplied\n",
        "#         if supply_A:\n",
        "#             avg_isi, joint_isi = bss_isi(W, A_w)\n",
        "#             isi[iteration] = joint_isi\n",
        "\n",
        "#         W_old = np.copy(W)\n",
        "#         cost[iteration] = 0\n",
        "#         for k in range(K):\n",
        "#             cost[iteration] -= np.log(np.abs(np.linalg.det(W[:, :, k])))\n",
        "#             # Min. cost function\n",
        "\n",
        "#         Q = 0\n",
        "#         R = 0\n",
        "\n",
        "#         # Calculate SCV (new code)\n",
        "#         for k in range(K):\n",
        "#             Y[:,:,k] = np.matmul(W[:,:,k], X[:,:,k])\n",
        "\n",
        "#         # Loop over each SCV\n",
        "#         for n in range(N):\n",
        "#             Wn = np.conj(W[n, :, :]).flatten(order='F')\n",
        "\n",
        "#             Sigma_n = np.eye(K)\n",
        "\n",
        "#             # Graphical Lasso - SPICE (new code)\n",
        "#             model = GraphicalLassoCV(tol=1e-2, max_iter=200) # max_iterations increase\n",
        "#             model.fit(Y[n, :, :])\n",
        "#             Sigma_n = model.covariance_\n",
        "#             Sigma_inv = model.precision_\n",
        "\n",
        "#             cost[iteration] += 0.5 * (cost_const + np.log(np.abs(np.linalg.det(Sigma_n))))\n",
        "\n",
        "#             # Decoupling trick\n",
        "#             hnk, Q, R = decouple_trick(W, n, Q, R)\n",
        "\n",
        "#             for k in range(K):\n",
        "#                 # Analytic derivative of cost function with respect to vn\n",
        "#                 # Code below is efficient implementation of computing the gradient, which is\n",
        "#                 # independent of T\n",
        "#                 grad[:, k] = - hnk[:, k] / (W[n, :, k] @ hnk[:, k])\n",
        "\n",
        "\n",
        "#                 for kk in range(K):\n",
        "#                     grad[:, k] += R_xx[:, :, k, kk] @ np.conj(W[n, :, kk]) * Sigma_inv[kk, k]\n",
        "\n",
        "#                 wnk = np.conj(W[n, :, k])\n",
        "\n",
        "#                 grad_norm = normalize_column_vectors(grad[:, k])\n",
        "#                 grad_norm_proj = normalize_column_vectors(grad_norm - np.conj(\n",
        "#                     wnk) @ grad_norm * wnk)  # non-colinear direction normalized\n",
        "#                 W[n, :, k] = np.conj(\n",
        "#                     normalize_column_vectors(wnk - alpha0 * grad_norm_proj))\n",
        "\n",
        "#         for k in range(K):\n",
        "#             # in original matlab code, this is the term criterion\n",
        "#             term_criterion = np.maximum(term_criterion, np.amax(\n",
        "#                 1 - np.abs(np.diag(W_old[:, :, k] @ np.conj(W[:, :, k].T)))))\n",
        "\n",
        "#         # Decrease step size alpha if cost increased from last iteration\n",
        "#         if iteration > 0:\n",
        "#             if cost[iteration] > cost[iteration - 1]:\n",
        "#                 alpha0 = np.maximum(alpha_min, alpha_scale * alpha0)\n",
        "\n",
        "#         # Check the termination condition\n",
        "#         if term_criterion < W_diff_stop or iteration == max_iter - 1:\n",
        "#             break\n",
        "#         elif term_criterion > blowup or np.isnan(cost[iteration]):\n",
        "#             for k in range(K):\n",
        "#                 W[:, :, k] = np.eye(N) + 0.1 * np.random.randn(N, N)\n",
        "#             if verbose:\n",
        "#                 print('W blowup, restart with new initial value.')\n",
        "\n",
        "#         # Display Iteration Information\n",
        "#         if verbose:\n",
        "#             if supply_A:\n",
        "#                 print(\n",
        "#                     f'Step {iteration}: W change: {term_criterion}, Cost: {cost[iteration]}, '\n",
        "#                     f'Avg ISI: {avg_isi}, Joint ISI: {joint_isi}')\n",
        "#             else:\n",
        "#                 print(f'Step {iteration}: W change: {term_criterion}, Cost: {cost[iteration]}')\n",
        "\n",
        "#     # Finish Display\n",
        "#     if iteration == 0 and verbose:\n",
        "#         if supply_A:\n",
        "#             print(\n",
        "#                 f'Step {iteration}: W change: {term_criterion}, Cost: {cost[iteration]}, '\n",
        "#                 f'Avg ISI: {avg_isi}, Joint ISI: {joint_isi}')\n",
        "#         else:\n",
        "#             print(f'Step {iteration}: W change: {term_criterion}, Cost: {cost[iteration]}')\n",
        "\n",
        "#     # Clean-up Outputs\n",
        "#     cost = cost[0:iteration + 1]\n",
        "\n",
        "#     if supply_A:\n",
        "#         isi = isi[0:iteration + 1]\n",
        "\n",
        "#     if whiten:\n",
        "#         for k in range(K):\n",
        "#             W[:, :, k] = W[:, :, k] @ V[:, :, k]\n",
        "#     else:  # no prewhitening\n",
        "#         # Scale demixing vectors to generate unit variance sources\n",
        "#         for n in range(N):\n",
        "#             for k in range(K):\n",
        "#                 W[n, :, k] /= np.sqrt(W[n, :, k] @ R_xx[:, :, k, k] @ np.conj(W[n, :, k]))\n",
        "\n",
        "#     # Resort order of SCVs: Order the components from most to least ill-conditioned\n",
        "\n",
        "#     # First, compute the data covariance matrices (by undoing any whitening)\n",
        "#     if whiten:\n",
        "#         for k1 in range(K):\n",
        "#             for k2 in range(k1, K):\n",
        "#                 R_xx[:, :, k1, k2] = np.linalg.solve(V[:, :, k2],\n",
        "#                                                      np.linalg.solve(V[:, :, k1],\n",
        "#                                                                      R_xx[:, :, k1, k2]).T).T\n",
        "#                 R_xx[:, :, k2, k1] = np.conj(R_xx[:, :, k1, k2].T)  # R_xx is Hermitian\n",
        "\n",
        "#     # Second, compute the determinant of the SCVs\n",
        "#     detSCV = np.zeros(N)\n",
        "#     Sigma_N = np.zeros((K, K, N))\n",
        "\n",
        "#     for k in range(K):\n",
        "#         Y[:,:,k] = np.matmul(W[:,:,k], X[:,:,k])\n",
        "\n",
        "#     for n in range(N):\n",
        "\n",
        "#         Sigma_n = np.zeros((K, K))\n",
        "\n",
        "#         # Graphical Lasso - SPICE (new code)\n",
        "#         model = GraphicalLassoCV(tol=1e-2, max_iter=200) # max_iterations increase\n",
        "#         model.fit(Y[n, :, :])\n",
        "#         Sigma_n = model.covariance_\n",
        "#         Sigma_inv = model.precision_\n",
        "\n",
        "#         Sigma_N[:, :, n] = Sigma_n\n",
        "\n",
        "#         detSCV[n] = np.linalg.det(Sigma_n)\n",
        "\n",
        "#     # Third, sort and apply\n",
        "#     isort = np.argsort(detSCV)\n",
        "#     Sigma_N = Sigma_N[:, :, isort]\n",
        "#     for k in range(K):\n",
        "#         W[:, :, k] = W[isort, :, k]\n",
        "\n",
        "#     return W, cost, Sigma_N, isi\n"
      ]
    },
    {
      "cell_type": "code",
      "execution_count": null,
      "metadata": {
        "id": "sPB1N5kwxHO-"
      },
      "outputs": [],
      "source": [
        "# # Run IVA_SPICE model on data to get W matrices\n",
        "# import time\n",
        "# start_time = time.time() # collects start time\n",
        "\n",
        "# W, c, sig, isi = iva_spice(Z, whiten=False, verbose=True)\n",
        "\n",
        "# print(time.time() - start_time)"
      ]
    },
    {
      "cell_type": "code",
      "source": [
        "pkl_file_path = 'IVA_S_14_output.pkl'\n",
        "\n",
        "with open(pkl_file_path, 'rb') as file:\n",
        "    context = pickle.load(file)\n",
        "\n",
        "iva_spice = pd.Series(context)\n",
        "iva_spice[\"W\"].shape\n",
        "\n",
        "\n",
        "W = iva_spice[\"W\"]\n",
        "W.shape"
      ],
      "metadata": {
        "id": "a6_eRIOeWXih",
        "colab": {
          "base_uri": "https://localhost:8080/"
        },
        "outputId": "91ec7cb2-e518-4a18-9109-76fadd596905"
      },
      "execution_count": null,
      "outputs": [
        {
          "output_type": "execute_result",
          "data": {
            "text/plain": [
              "(167, 167, 14)"
            ]
          },
          "metadata": {},
          "execution_count": 31
        }
      ]
    },
    {
      "cell_type": "code",
      "source": [
        "len(W)"
      ],
      "metadata": {
        "colab": {
          "base_uri": "https://localhost:8080/"
        },
        "id": "UZ7fy16-JggS",
        "outputId": "d38de792-e4eb-4d44-9d7d-219e4ddb7592"
      },
      "execution_count": null,
      "outputs": [
        {
          "output_type": "execute_result",
          "data": {
            "text/plain": [
              "167"
            ]
          },
          "metadata": {},
          "execution_count": 32
        }
      ]
    },
    {
      "cell_type": "code",
      "execution_count": null,
      "metadata": {
        "id": "mMtpllrZxHfl"
      },
      "outputs": [],
      "source": [
        "# # Initialize an empty list to store the split matrices\n",
        "Ws = []\n",
        "\n",
        "\n",
        "for i in range(14):\n",
        "    W_split = np.squeeze(np.split(W, 14, axis=2)[i], axis=2)\n",
        "    Ws.append(W_split)\n",
        "\n",
        "# Ws now contains W1, W2, ...,\n",
        "W1, W2, W3, W4, W5, W6, W7, W8, W9, W10, W11, W12, W13, W14 = Ws\n"
      ]
    },
    {
      "cell_type": "code",
      "execution_count": null,
      "metadata": {
        "id": "79ynozcdxHi-",
        "colab": {
          "base_uri": "https://localhost:8080/"
        },
        "outputId": "2d87b266-f621-4cd2-b04e-a55e60246720"
      },
      "outputs": [
        {
          "output_type": "execute_result",
          "data": {
            "text/plain": [
              "(167, 167, 14)"
            ]
          },
          "metadata": {},
          "execution_count": 34
        }
      ],
      "source": [
        "W.shape"
      ]
    },
    {
      "cell_type": "code",
      "source": [
        "mydata[0].shape"
      ],
      "metadata": {
        "colab": {
          "base_uri": "https://localhost:8080/"
        },
        "id": "BzKxHmiJGQL6",
        "outputId": "7db32c6e-14bf-4d59-85e3-6f458db20ec5"
      },
      "execution_count": null,
      "outputs": [
        {
          "output_type": "execute_result",
          "data": {
            "text/plain": [
              "(167, 7791)"
            ]
          },
          "metadata": {},
          "execution_count": 35
        }
      ]
    },
    {
      "cell_type": "code",
      "source": [
        "len(mydata)"
      ],
      "metadata": {
        "colab": {
          "base_uri": "https://localhost:8080/"
        },
        "id": "4EJb57FRIgvI",
        "outputId": "8a6b109e-eac3-44de-9659-4f1c4cc40279"
      },
      "execution_count": null,
      "outputs": [
        {
          "output_type": "execute_result",
          "data": {
            "text/plain": [
              "14"
            ]
          },
          "metadata": {},
          "execution_count": 36
        }
      ]
    },
    {
      "cell_type": "code",
      "source": [
        "# Generate S1 and S2\n",
        "Ws = [W1, W2, W3, W4, W5, W6, W7, W8, W9, W10, W11, W12, W13, W14]\n",
        "Ss = []\n",
        "# S1_tr = W1 @ np.transpose(X) #Text Components\n",
        "\n",
        "for W, val in zip(Ws, mydata):\n",
        "  S_tr = W @ (val)\n",
        "  Ss.append(S_tr)"
      ],
      "metadata": {
        "id": "PJWAmeuQGUuH"
      },
      "execution_count": null,
      "outputs": []
    },
    {
      "cell_type": "code",
      "source": [
        "# Data Fusion - Averaging\n",
        "df_IVA_M_EMK = 0\n",
        "for i in Ss:\n",
        "  df_IVA_M_EMK += i.T\n",
        "df_IVA_M_EMK = df_IVA_M_EMK / 14"
      ],
      "metadata": {
        "id": "g-PF73JsHvmC"
      },
      "execution_count": null,
      "outputs": []
    },
    {
      "cell_type": "code",
      "source": [
        "df_IVA_M_EMK = np.array(df_IVA_M_EMK)"
      ],
      "metadata": {
        "id": "bFfzoqWAH0Oa"
      },
      "execution_count": null,
      "outputs": []
    },
    {
      "cell_type": "code",
      "source": [
        "def embedding_feats(list_of_lists):\n",
        "    DIMENSION = 167\n",
        "    feats = []\n",
        "    for tokens in list_of_lists:\n",
        "        feat_for_this = np.zeros(DIMENSION)\n",
        "        count_for_this = 0\n",
        "        for token in tokens:\n",
        "            if token in total_vocab: # Check if the token is in the model's vocabulary\n",
        "                index = total_vocab.index(token)\n",
        "                feat_for_this += df_IVA_M_EMK.T[:, index]  # Access the vector for the token\n",
        "\n",
        "        if count_for_this != 0:\n",
        "            feat_for_this = feat_for_this / count_for_this  # Average the vectors\n",
        "        feats.append(feat_for_this)\n",
        "    return feats\n",
        "\n",
        "train_vectors = embedding_feats(list(context_df_train['clean_tweet']))\n",
        "test_vectors = embedding_feats(list(context_df_test['clean_tweet']))\n"
      ],
      "metadata": {
        "id": "dvu-uZ_HH0_s"
      },
      "execution_count": null,
      "outputs": []
    },
    {
      "cell_type": "code",
      "source": [
        "# create function to recode label field\n",
        "def recode_annotation(txt_field):\n",
        "    if txt_field == \"fake\":\n",
        "        return 1\n",
        "    else:\n",
        "        return 0\n",
        "\n",
        "# run function to recode label field.\n",
        "train_labels = context_df_train['label'].apply(recode_annotation)\n",
        "test_labels = context_df_test['label'].apply(recode_annotation)"
      ],
      "metadata": {
        "id": "-E8K-DNOH5_9"
      },
      "execution_count": null,
      "outputs": []
    },
    {
      "cell_type": "code",
      "source": [
        "# SVC hyperparams to optimize\n",
        "\n",
        "parameters = {'C':[0.1, 1, 10, 100, 1000],\n",
        "                'kernel':['rbf']}\n",
        "\n",
        "scoring = {'accuracy': make_scorer(accuracy_score),\n",
        "           'precision': make_scorer(precision_score, average = 'binary'),\n",
        "           'recall': make_scorer(recall_score, average = 'binary'),\n",
        "           'f1': make_scorer(f1_score, average = 'binary')}"
      ],
      "metadata": {
        "id": "vF4lqE9XIDNL"
      },
      "execution_count": null,
      "outputs": []
    },
    {
      "cell_type": "code",
      "source": [
        "import joblib\n",
        "np.random.seed(1)\n",
        "# CV\n",
        "# cv = StratifiedKFold(n_splits=5, shuffle=True)\n",
        "svm = SVC(gamma='scale', random_state=1)\n",
        "svm_GS = GridSearchCV(svm, param_grid = parameters, scoring = scoring, refit='f1', cv=5, return_train_score=True)\n",
        "svm_GS.fit(train_vectors,train_labels)\n",
        "\n",
        "# The best estimator found by GridSearchCV\n",
        "best_model = svm_GS.best_estimator_\n",
        "best_model\n",
        "\n",
        "# Save the best model to disk\n",
        "# joblib.dump(best_model, 'best_svm_model_new_spice.joblib')"
      ],
      "metadata": {
        "id": "XvImEGvJIkrd",
        "colab": {
          "base_uri": "https://localhost:8080/",
          "height": 74
        },
        "outputId": "a037ef3b-13cd-4420-8552-dbfd6667a175"
      },
      "execution_count": null,
      "outputs": [
        {
          "output_type": "execute_result",
          "data": {
            "text/plain": [
              "SVC(C=0.1, random_state=1)"
            ],
            "text/html": [
              "<style>#sk-container-id-1 {color: black;background-color: white;}#sk-container-id-1 pre{padding: 0;}#sk-container-id-1 div.sk-toggleable {background-color: white;}#sk-container-id-1 label.sk-toggleable__label {cursor: pointer;display: block;width: 100%;margin-bottom: 0;padding: 0.3em;box-sizing: border-box;text-align: center;}#sk-container-id-1 label.sk-toggleable__label-arrow:before {content: \"▸\";float: left;margin-right: 0.25em;color: #696969;}#sk-container-id-1 label.sk-toggleable__label-arrow:hover:before {color: black;}#sk-container-id-1 div.sk-estimator:hover label.sk-toggleable__label-arrow:before {color: black;}#sk-container-id-1 div.sk-toggleable__content {max-height: 0;max-width: 0;overflow: hidden;text-align: left;background-color: #f0f8ff;}#sk-container-id-1 div.sk-toggleable__content pre {margin: 0.2em;color: black;border-radius: 0.25em;background-color: #f0f8ff;}#sk-container-id-1 input.sk-toggleable__control:checked~div.sk-toggleable__content {max-height: 200px;max-width: 100%;overflow: auto;}#sk-container-id-1 input.sk-toggleable__control:checked~label.sk-toggleable__label-arrow:before {content: \"▾\";}#sk-container-id-1 div.sk-estimator input.sk-toggleable__control:checked~label.sk-toggleable__label {background-color: #d4ebff;}#sk-container-id-1 div.sk-label input.sk-toggleable__control:checked~label.sk-toggleable__label {background-color: #d4ebff;}#sk-container-id-1 input.sk-hidden--visually {border: 0;clip: rect(1px 1px 1px 1px);clip: rect(1px, 1px, 1px, 1px);height: 1px;margin: -1px;overflow: hidden;padding: 0;position: absolute;width: 1px;}#sk-container-id-1 div.sk-estimator {font-family: monospace;background-color: #f0f8ff;border: 1px dotted black;border-radius: 0.25em;box-sizing: border-box;margin-bottom: 0.5em;}#sk-container-id-1 div.sk-estimator:hover {background-color: #d4ebff;}#sk-container-id-1 div.sk-parallel-item::after {content: \"\";width: 100%;border-bottom: 1px solid gray;flex-grow: 1;}#sk-container-id-1 div.sk-label:hover label.sk-toggleable__label {background-color: #d4ebff;}#sk-container-id-1 div.sk-serial::before {content: \"\";position: absolute;border-left: 1px solid gray;box-sizing: border-box;top: 0;bottom: 0;left: 50%;z-index: 0;}#sk-container-id-1 div.sk-serial {display: flex;flex-direction: column;align-items: center;background-color: white;padding-right: 0.2em;padding-left: 0.2em;position: relative;}#sk-container-id-1 div.sk-item {position: relative;z-index: 1;}#sk-container-id-1 div.sk-parallel {display: flex;align-items: stretch;justify-content: center;background-color: white;position: relative;}#sk-container-id-1 div.sk-item::before, #sk-container-id-1 div.sk-parallel-item::before {content: \"\";position: absolute;border-left: 1px solid gray;box-sizing: border-box;top: 0;bottom: 0;left: 50%;z-index: -1;}#sk-container-id-1 div.sk-parallel-item {display: flex;flex-direction: column;z-index: 1;position: relative;background-color: white;}#sk-container-id-1 div.sk-parallel-item:first-child::after {align-self: flex-end;width: 50%;}#sk-container-id-1 div.sk-parallel-item:last-child::after {align-self: flex-start;width: 50%;}#sk-container-id-1 div.sk-parallel-item:only-child::after {width: 0;}#sk-container-id-1 div.sk-dashed-wrapped {border: 1px dashed gray;margin: 0 0.4em 0.5em 0.4em;box-sizing: border-box;padding-bottom: 0.4em;background-color: white;}#sk-container-id-1 div.sk-label label {font-family: monospace;font-weight: bold;display: inline-block;line-height: 1.2em;}#sk-container-id-1 div.sk-label-container {text-align: center;}#sk-container-id-1 div.sk-container {/* jupyter's `normalize.less` sets `[hidden] { display: none; }` but bootstrap.min.css set `[hidden] { display: none !important; }` so we also need the `!important` here to be able to override the default hidden behavior on the sphinx rendered scikit-learn.org. See: https://github.com/scikit-learn/scikit-learn/issues/21755 */display: inline-block !important;position: relative;}#sk-container-id-1 div.sk-text-repr-fallback {display: none;}</style><div id=\"sk-container-id-1\" class=\"sk-top-container\"><div class=\"sk-text-repr-fallback\"><pre>SVC(C=0.1, random_state=1)</pre><b>In a Jupyter environment, please rerun this cell to show the HTML representation or trust the notebook. <br />On GitHub, the HTML representation is unable to render, please try loading this page with nbviewer.org.</b></div><div class=\"sk-container\" hidden><div class=\"sk-item\"><div class=\"sk-estimator sk-toggleable\"><input class=\"sk-toggleable__control sk-hidden--visually\" id=\"sk-estimator-id-1\" type=\"checkbox\" checked><label for=\"sk-estimator-id-1\" class=\"sk-toggleable__label sk-toggleable__label-arrow\">SVC</label><div class=\"sk-toggleable__content\"><pre>SVC(C=0.1, random_state=1)</pre></div></div></div></div></div>"
            ]
          },
          "metadata": {},
          "execution_count": 43
        }
      ]
    },
    {
      "cell_type": "code",
      "source": [
        "svm_GS.best_params_"
      ],
      "metadata": {
        "colab": {
          "base_uri": "https://localhost:8080/"
        },
        "id": "u8ImGozmDoPm",
        "outputId": "f82af18e-bb58-45f4-b55f-0f89c135a064"
      },
      "execution_count": null,
      "outputs": [
        {
          "output_type": "execute_result",
          "data": {
            "text/plain": [
              "{'C': 0.1, 'kernel': 'rbf'}"
            ]
          },
          "metadata": {},
          "execution_count": 44
        }
      ]
    },
    {
      "cell_type": "code",
      "source": [
        " # Predict using the best model\n",
        "predictions = best_model.predict(test_vectors)"
      ],
      "metadata": {
        "id": "eGmyVJSLVAGE"
      },
      "execution_count": null,
      "outputs": []
    },
    {
      "cell_type": "code",
      "source": [
        "# Calculate metrics\n",
        "precision = precision_score(test_labels, predictions)\n",
        "recall = recall_score(test_labels, predictions)\n",
        "accuracy = accuracy_score(test_labels, predictions)\n",
        "f1score = f1_score(test_labels, predictions)\n",
        "# Print the metrics\n",
        "print(f'Precision: {precision * 100}')\n",
        "print(f'Recall: {recall * 100}')\n",
        "print(f'Accuracy: {accuracy * 100}')\n",
        "print(f'f1_score: {f1score * 100}')\n",
        "\n",
        "df = pd.DataFrame({'Metrics': ['Accuracy','Precision', 'Recall', 'f1_score'], 'Performance Results': [accuracy,precision, recall,f1score]})\n",
        "print('\\n')\n",
        "df"
      ],
      "metadata": {
        "colab": {
          "base_uri": "https://localhost:8080/"
        },
        "id": "EMpVOEjtl_I3",
        "outputId": "9216e8ab-efe6-4bc6-ba28-14631bdc6e82"
      },
      "execution_count": null,
      "outputs": [
        {
          "output_type": "stream",
          "name": "stdout",
          "text": [
            "Precision: 58.66834170854271\n",
            "Recall: 100.0\n",
            "Accuracy: 58.66834170854271\n",
            "f1_score: 73.95091053048299\n",
            "\n",
            "\n"
          ]
        },
        {
          "output_type": "execute_result",
          "data": {
            "text/plain": [
              "     Metrics  Performance Results\n",
              "0   Accuracy             0.586683\n",
              "1  Precision             0.586683\n",
              "2     Recall             1.000000\n",
              "3   f1_score             0.739509"
            ],
            "text/html": [
              "\n",
              "  <div id=\"df-f7b3e8ac-fb4b-4688-b74b-8048200fad3a\" class=\"colab-df-container\">\n",
              "    <div>\n",
              "<style scoped>\n",
              "    .dataframe tbody tr th:only-of-type {\n",
              "        vertical-align: middle;\n",
              "    }\n",
              "\n",
              "    .dataframe tbody tr th {\n",
              "        vertical-align: top;\n",
              "    }\n",
              "\n",
              "    .dataframe thead th {\n",
              "        text-align: right;\n",
              "    }\n",
              "</style>\n",
              "<table border=\"1\" class=\"dataframe\">\n",
              "  <thead>\n",
              "    <tr style=\"text-align: right;\">\n",
              "      <th></th>\n",
              "      <th>Metrics</th>\n",
              "      <th>Performance Results</th>\n",
              "    </tr>\n",
              "  </thead>\n",
              "  <tbody>\n",
              "    <tr>\n",
              "      <th>0</th>\n",
              "      <td>Accuracy</td>\n",
              "      <td>0.586683</td>\n",
              "    </tr>\n",
              "    <tr>\n",
              "      <th>1</th>\n",
              "      <td>Precision</td>\n",
              "      <td>0.586683</td>\n",
              "    </tr>\n",
              "    <tr>\n",
              "      <th>2</th>\n",
              "      <td>Recall</td>\n",
              "      <td>1.000000</td>\n",
              "    </tr>\n",
              "    <tr>\n",
              "      <th>3</th>\n",
              "      <td>f1_score</td>\n",
              "      <td>0.739509</td>\n",
              "    </tr>\n",
              "  </tbody>\n",
              "</table>\n",
              "</div>\n",
              "    <div class=\"colab-df-buttons\">\n",
              "\n",
              "  <div class=\"colab-df-container\">\n",
              "    <button class=\"colab-df-convert\" onclick=\"convertToInteractive('df-f7b3e8ac-fb4b-4688-b74b-8048200fad3a')\"\n",
              "            title=\"Convert this dataframe to an interactive table.\"\n",
              "            style=\"display:none;\">\n",
              "\n",
              "  <svg xmlns=\"http://www.w3.org/2000/svg\" height=\"24px\" viewBox=\"0 -960 960 960\">\n",
              "    <path d=\"M120-120v-720h720v720H120Zm60-500h600v-160H180v160Zm220 220h160v-160H400v160Zm0 220h160v-160H400v160ZM180-400h160v-160H180v160Zm440 0h160v-160H620v160ZM180-180h160v-160H180v160Zm440 0h160v-160H620v160Z\"/>\n",
              "  </svg>\n",
              "    </button>\n",
              "\n",
              "  <style>\n",
              "    .colab-df-container {\n",
              "      display:flex;\n",
              "      gap: 12px;\n",
              "    }\n",
              "\n",
              "    .colab-df-convert {\n",
              "      background-color: #E8F0FE;\n",
              "      border: none;\n",
              "      border-radius: 50%;\n",
              "      cursor: pointer;\n",
              "      display: none;\n",
              "      fill: #1967D2;\n",
              "      height: 32px;\n",
              "      padding: 0 0 0 0;\n",
              "      width: 32px;\n",
              "    }\n",
              "\n",
              "    .colab-df-convert:hover {\n",
              "      background-color: #E2EBFA;\n",
              "      box-shadow: 0px 1px 2px rgba(60, 64, 67, 0.3), 0px 1px 3px 1px rgba(60, 64, 67, 0.15);\n",
              "      fill: #174EA6;\n",
              "    }\n",
              "\n",
              "    .colab-df-buttons div {\n",
              "      margin-bottom: 4px;\n",
              "    }\n",
              "\n",
              "    [theme=dark] .colab-df-convert {\n",
              "      background-color: #3B4455;\n",
              "      fill: #D2E3FC;\n",
              "    }\n",
              "\n",
              "    [theme=dark] .colab-df-convert:hover {\n",
              "      background-color: #434B5C;\n",
              "      box-shadow: 0px 1px 3px 1px rgba(0, 0, 0, 0.15);\n",
              "      filter: drop-shadow(0px 1px 2px rgba(0, 0, 0, 0.3));\n",
              "      fill: #FFFFFF;\n",
              "    }\n",
              "  </style>\n",
              "\n",
              "    <script>\n",
              "      const buttonEl =\n",
              "        document.querySelector('#df-f7b3e8ac-fb4b-4688-b74b-8048200fad3a button.colab-df-convert');\n",
              "      buttonEl.style.display =\n",
              "        google.colab.kernel.accessAllowed ? 'block' : 'none';\n",
              "\n",
              "      async function convertToInteractive(key) {\n",
              "        const element = document.querySelector('#df-f7b3e8ac-fb4b-4688-b74b-8048200fad3a');\n",
              "        const dataTable =\n",
              "          await google.colab.kernel.invokeFunction('convertToInteractive',\n",
              "                                                    [key], {});\n",
              "        if (!dataTable) return;\n",
              "\n",
              "        const docLinkHtml = 'Like what you see? Visit the ' +\n",
              "          '<a target=\"_blank\" href=https://colab.research.google.com/notebooks/data_table.ipynb>data table notebook</a>'\n",
              "          + ' to learn more about interactive tables.';\n",
              "        element.innerHTML = '';\n",
              "        dataTable['output_type'] = 'display_data';\n",
              "        await google.colab.output.renderOutput(dataTable, element);\n",
              "        const docLink = document.createElement('div');\n",
              "        docLink.innerHTML = docLinkHtml;\n",
              "        element.appendChild(docLink);\n",
              "      }\n",
              "    </script>\n",
              "  </div>\n",
              "\n",
              "\n",
              "<div id=\"df-159fb224-0f3b-4b72-8b5f-67a27f6a583e\">\n",
              "  <button class=\"colab-df-quickchart\" onclick=\"quickchart('df-159fb224-0f3b-4b72-8b5f-67a27f6a583e')\"\n",
              "            title=\"Suggest charts\"\n",
              "            style=\"display:none;\">\n",
              "\n",
              "<svg xmlns=\"http://www.w3.org/2000/svg\" height=\"24px\"viewBox=\"0 0 24 24\"\n",
              "     width=\"24px\">\n",
              "    <g>\n",
              "        <path d=\"M19 3H5c-1.1 0-2 .9-2 2v14c0 1.1.9 2 2 2h14c1.1 0 2-.9 2-2V5c0-1.1-.9-2-2-2zM9 17H7v-7h2v7zm4 0h-2V7h2v10zm4 0h-2v-4h2v4z\"/>\n",
              "    </g>\n",
              "</svg>\n",
              "  </button>\n",
              "\n",
              "<style>\n",
              "  .colab-df-quickchart {\n",
              "      --bg-color: #E8F0FE;\n",
              "      --fill-color: #1967D2;\n",
              "      --hover-bg-color: #E2EBFA;\n",
              "      --hover-fill-color: #174EA6;\n",
              "      --disabled-fill-color: #AAA;\n",
              "      --disabled-bg-color: #DDD;\n",
              "  }\n",
              "\n",
              "  [theme=dark] .colab-df-quickchart {\n",
              "      --bg-color: #3B4455;\n",
              "      --fill-color: #D2E3FC;\n",
              "      --hover-bg-color: #434B5C;\n",
              "      --hover-fill-color: #FFFFFF;\n",
              "      --disabled-bg-color: #3B4455;\n",
              "      --disabled-fill-color: #666;\n",
              "  }\n",
              "\n",
              "  .colab-df-quickchart {\n",
              "    background-color: var(--bg-color);\n",
              "    border: none;\n",
              "    border-radius: 50%;\n",
              "    cursor: pointer;\n",
              "    display: none;\n",
              "    fill: var(--fill-color);\n",
              "    height: 32px;\n",
              "    padding: 0;\n",
              "    width: 32px;\n",
              "  }\n",
              "\n",
              "  .colab-df-quickchart:hover {\n",
              "    background-color: var(--hover-bg-color);\n",
              "    box-shadow: 0 1px 2px rgba(60, 64, 67, 0.3), 0 1px 3px 1px rgba(60, 64, 67, 0.15);\n",
              "    fill: var(--button-hover-fill-color);\n",
              "  }\n",
              "\n",
              "  .colab-df-quickchart-complete:disabled,\n",
              "  .colab-df-quickchart-complete:disabled:hover {\n",
              "    background-color: var(--disabled-bg-color);\n",
              "    fill: var(--disabled-fill-color);\n",
              "    box-shadow: none;\n",
              "  }\n",
              "\n",
              "  .colab-df-spinner {\n",
              "    border: 2px solid var(--fill-color);\n",
              "    border-color: transparent;\n",
              "    border-bottom-color: var(--fill-color);\n",
              "    animation:\n",
              "      spin 1s steps(1) infinite;\n",
              "  }\n",
              "\n",
              "  @keyframes spin {\n",
              "    0% {\n",
              "      border-color: transparent;\n",
              "      border-bottom-color: var(--fill-color);\n",
              "      border-left-color: var(--fill-color);\n",
              "    }\n",
              "    20% {\n",
              "      border-color: transparent;\n",
              "      border-left-color: var(--fill-color);\n",
              "      border-top-color: var(--fill-color);\n",
              "    }\n",
              "    30% {\n",
              "      border-color: transparent;\n",
              "      border-left-color: var(--fill-color);\n",
              "      border-top-color: var(--fill-color);\n",
              "      border-right-color: var(--fill-color);\n",
              "    }\n",
              "    40% {\n",
              "      border-color: transparent;\n",
              "      border-right-color: var(--fill-color);\n",
              "      border-top-color: var(--fill-color);\n",
              "    }\n",
              "    60% {\n",
              "      border-color: transparent;\n",
              "      border-right-color: var(--fill-color);\n",
              "    }\n",
              "    80% {\n",
              "      border-color: transparent;\n",
              "      border-right-color: var(--fill-color);\n",
              "      border-bottom-color: var(--fill-color);\n",
              "    }\n",
              "    90% {\n",
              "      border-color: transparent;\n",
              "      border-bottom-color: var(--fill-color);\n",
              "    }\n",
              "  }\n",
              "</style>\n",
              "\n",
              "  <script>\n",
              "    async function quickchart(key) {\n",
              "      const quickchartButtonEl =\n",
              "        document.querySelector('#' + key + ' button');\n",
              "      quickchartButtonEl.disabled = true;  // To prevent multiple clicks.\n",
              "      quickchartButtonEl.classList.add('colab-df-spinner');\n",
              "      try {\n",
              "        const charts = await google.colab.kernel.invokeFunction(\n",
              "            'suggestCharts', [key], {});\n",
              "      } catch (error) {\n",
              "        console.error('Error during call to suggestCharts:', error);\n",
              "      }\n",
              "      quickchartButtonEl.classList.remove('colab-df-spinner');\n",
              "      quickchartButtonEl.classList.add('colab-df-quickchart-complete');\n",
              "    }\n",
              "    (() => {\n",
              "      let quickchartButtonEl =\n",
              "        document.querySelector('#df-159fb224-0f3b-4b72-8b5f-67a27f6a583e button');\n",
              "      quickchartButtonEl.style.display =\n",
              "        google.colab.kernel.accessAllowed ? 'block' : 'none';\n",
              "    })();\n",
              "  </script>\n",
              "</div>\n",
              "\n",
              "  <div id=\"id_adcf55e3-0ceb-456d-adac-a295c8e12604\">\n",
              "    <style>\n",
              "      .colab-df-generate {\n",
              "        background-color: #E8F0FE;\n",
              "        border: none;\n",
              "        border-radius: 50%;\n",
              "        cursor: pointer;\n",
              "        display: none;\n",
              "        fill: #1967D2;\n",
              "        height: 32px;\n",
              "        padding: 0 0 0 0;\n",
              "        width: 32px;\n",
              "      }\n",
              "\n",
              "      .colab-df-generate:hover {\n",
              "        background-color: #E2EBFA;\n",
              "        box-shadow: 0px 1px 2px rgba(60, 64, 67, 0.3), 0px 1px 3px 1px rgba(60, 64, 67, 0.15);\n",
              "        fill: #174EA6;\n",
              "      }\n",
              "\n",
              "      [theme=dark] .colab-df-generate {\n",
              "        background-color: #3B4455;\n",
              "        fill: #D2E3FC;\n",
              "      }\n",
              "\n",
              "      [theme=dark] .colab-df-generate:hover {\n",
              "        background-color: #434B5C;\n",
              "        box-shadow: 0px 1px 3px 1px rgba(0, 0, 0, 0.15);\n",
              "        filter: drop-shadow(0px 1px 2px rgba(0, 0, 0, 0.3));\n",
              "        fill: #FFFFFF;\n",
              "      }\n",
              "    </style>\n",
              "    <button class=\"colab-df-generate\" onclick=\"generateWithVariable('df')\"\n",
              "            title=\"Generate code using this dataframe.\"\n",
              "            style=\"display:none;\">\n",
              "\n",
              "  <svg xmlns=\"http://www.w3.org/2000/svg\" height=\"24px\"viewBox=\"0 0 24 24\"\n",
              "       width=\"24px\">\n",
              "    <path d=\"M7,19H8.4L18.45,9,17,7.55,7,17.6ZM5,21V16.75L18.45,3.32a2,2,0,0,1,2.83,0l1.4,1.43a1.91,1.91,0,0,1,.58,1.4,1.91,1.91,0,0,1-.58,1.4L9.25,21ZM18.45,9,17,7.55Zm-12,3A5.31,5.31,0,0,0,4.9,8.1,5.31,5.31,0,0,0,1,6.5,5.31,5.31,0,0,0,4.9,4.9,5.31,5.31,0,0,0,6.5,1,5.31,5.31,0,0,0,8.1,4.9,5.31,5.31,0,0,0,12,6.5,5.46,5.46,0,0,0,6.5,12Z\"/>\n",
              "  </svg>\n",
              "    </button>\n",
              "    <script>\n",
              "      (() => {\n",
              "      const buttonEl =\n",
              "        document.querySelector('#id_adcf55e3-0ceb-456d-adac-a295c8e12604 button.colab-df-generate');\n",
              "      buttonEl.style.display =\n",
              "        google.colab.kernel.accessAllowed ? 'block' : 'none';\n",
              "\n",
              "      buttonEl.onclick = () => {\n",
              "        google.colab.notebook.generateWithVariable('df');\n",
              "      }\n",
              "      })();\n",
              "    </script>\n",
              "  </div>\n",
              "\n",
              "    </div>\n",
              "  </div>\n"
            ],
            "application/vnd.google.colaboratory.intrinsic+json": {
              "type": "dataframe",
              "variable_name": "df",
              "summary": "{\n  \"name\": \"df\",\n  \"rows\": 4,\n  \"fields\": [\n    {\n      \"column\": \"Metrics\",\n      \"properties\": {\n        \"dtype\": \"string\",\n        \"num_unique_values\": 4,\n        \"samples\": [\n          \"Precision\",\n          \"f1_score\",\n          \"Accuracy\"\n        ],\n        \"semantic_type\": \"\",\n        \"description\": \"\"\n      }\n    },\n    {\n      \"column\": \"Performance Results\",\n      \"properties\": {\n        \"dtype\": \"number\",\n        \"std\": 0.19498463264295904,\n        \"min\": 0.5866834170854272,\n        \"max\": 1.0,\n        \"num_unique_values\": 3,\n        \"samples\": [\n          0.5866834170854272,\n          1.0,\n          0.7395091053048298\n        ],\n        \"semantic_type\": \"\",\n        \"description\": \"\"\n      }\n    }\n  ]\n}"
            }
          },
          "metadata": {},
          "execution_count": 46
        }
      ]
    }
  ],
  "metadata": {
    "colab": {
      "provenance": [],
      "toc_visible": true,
      "authorship_tag": "ABX9TyM5P4x4MqOI9qw7qx//8M/S",
      "include_colab_link": true
    },
    "kernelspec": {
      "display_name": "Python 3",
      "name": "python3"
    },
    "language_info": {
      "name": "python"
    }
  },
  "nbformat": 4,
  "nbformat_minor": 0
}